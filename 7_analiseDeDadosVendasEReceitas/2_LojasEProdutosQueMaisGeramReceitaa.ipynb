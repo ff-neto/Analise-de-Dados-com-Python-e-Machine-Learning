{
 "cells": [
  {
   "cell_type": "markdown",
   "id": "b459e8c8-48d5-4589-b009-2dad35191d6c",
   "metadata": {},
   "source": [
    "# Análises"
   ]
  },
  {
   "cell_type": "markdown",
   "id": "e7c387b4-9895-4b9d-9bc6-8c0eeedd2360",
   "metadata": {},
   "source": [
    "## Lojas e Produtos que mais vendem"
   ]
  },
  {
   "cell_type": "code",
   "execution_count": 1,
   "id": "91d3aaa6-a1d1-4a80-b5c9-a8fdb05ab1e1",
   "metadata": {},
   "outputs": [],
   "source": [
    "import pandas as pd"
   ]
  },
  {
   "cell_type": "code",
   "execution_count": 2,
   "id": "26602e21-f0c4-4865-bfe9-22a71bdb9b3f",
   "metadata": {},
   "outputs": [],
   "source": [
    "# Lendo arquivo excel\n",
    "dfClientes   = pd.read_excel('caso_estudo.xlsx', sheet_name = 'clientes')\n",
    "dfLojas      = pd.read_excel('caso_estudo.xlsx', sheet_name = 'lojas')\n",
    "dfProdutos   = pd.read_excel('caso_estudo.xlsx', sheet_name = 'produtos')\n",
    "dfVendas     = pd.read_excel('caso_estudo.xlsx', sheet_name = 'vendas')\n",
    "dfPagamentos = pd.read_excel('caso_estudo.xlsx', sheet_name = 'pagamentos')"
   ]
  },
  {
   "cell_type": "code",
   "execution_count": 3,
   "id": "3ed58241-4b25-40ce-8c63-4fcb0000a837",
   "metadata": {},
   "outputs": [],
   "source": [
    "# Corrigindo o index\n",
    "dfClientes   = dfClientes.set_index('id')\n",
    "dfLojas      = dfLojas.set_index('id')\n",
    "dfProdutos   = dfProdutos.set_index('id')\n",
    "dfVendas     = dfVendas.set_index('id')\n",
    "dfPagamentos = dfPagamentos.set_index('id')"
   ]
  },
  {
   "cell_type": "code",
   "execution_count": 4,
   "id": "671688aa-8f6a-42df-9053-025c185a542b",
   "metadata": {},
   "outputs": [],
   "source": [
    "# Join\n",
    "df = dfVendas.join( dfClientes.add_prefix('clientes_'), on = 'id_cliente' )\n",
    "df = df.join( dfLojas.add_prefix('loja_'), on = 'id_loja' )\n",
    "df = df.join( dfProdutos.add_prefix('produto_'), on = 'id_produto' )\n",
    "df = df.join(dfPagamentos.set_index('id_venda'))"
   ]
  },
  {
   "cell_type": "code",
   "execution_count": 5,
   "id": "ee843295-d4a2-4371-98b6-cf68ddcd8c0b",
   "metadata": {},
   "outputs": [
    {
     "data": {
      "text/html": [
       "<div>\n",
       "<style scoped>\n",
       "    .dataframe tbody tr th:only-of-type {\n",
       "        vertical-align: middle;\n",
       "    }\n",
       "\n",
       "    .dataframe tbody tr th {\n",
       "        vertical-align: top;\n",
       "    }\n",
       "\n",
       "    .dataframe thead th {\n",
       "        text-align: right;\n",
       "    }\n",
       "</style>\n",
       "<table border=\"1\" class=\"dataframe\">\n",
       "  <thead>\n",
       "    <tr style=\"text-align: right;\">\n",
       "      <th></th>\n",
       "      <th>id_cliente</th>\n",
       "      <th>id_loja</th>\n",
       "      <th>id_produto</th>\n",
       "      <th>dt_venda</th>\n",
       "      <th>clientes_nome</th>\n",
       "      <th>clientes_sexo</th>\n",
       "      <th>clientes_dt_nasc</th>\n",
       "      <th>loja_cidade</th>\n",
       "      <th>produto_produto</th>\n",
       "      <th>produto_valor</th>\n",
       "      <th>dt_pgto</th>\n",
       "    </tr>\n",
       "    <tr>\n",
       "      <th>id</th>\n",
       "      <th></th>\n",
       "      <th></th>\n",
       "      <th></th>\n",
       "      <th></th>\n",
       "      <th></th>\n",
       "      <th></th>\n",
       "      <th></th>\n",
       "      <th></th>\n",
       "      <th></th>\n",
       "      <th></th>\n",
       "      <th></th>\n",
       "    </tr>\n",
       "  </thead>\n",
       "  <tbody>\n",
       "    <tr>\n",
       "      <th>1</th>\n",
       "      <td>393</td>\n",
       "      <td>9</td>\n",
       "      <td>3</td>\n",
       "      <td>2018-01-04</td>\n",
       "      <td>Gustavo Silva</td>\n",
       "      <td>M</td>\n",
       "      <td>1/4/1950</td>\n",
       "      <td>Palmas</td>\n",
       "      <td>laptop básico</td>\n",
       "      <td>2300.0</td>\n",
       "      <td>2018-01-24</td>\n",
       "    </tr>\n",
       "    <tr>\n",
       "      <th>2</th>\n",
       "      <td>417</td>\n",
       "      <td>9</td>\n",
       "      <td>3</td>\n",
       "      <td>2018-01-04</td>\n",
       "      <td>Leonor Almeida</td>\n",
       "      <td>F</td>\n",
       "      <td>1/31/1972</td>\n",
       "      <td>Palmas</td>\n",
       "      <td>laptop básico</td>\n",
       "      <td>2300.0</td>\n",
       "      <td>2018-02-17</td>\n",
       "    </tr>\n",
       "    <tr>\n",
       "      <th>3</th>\n",
       "      <td>374</td>\n",
       "      <td>7</td>\n",
       "      <td>8</td>\n",
       "      <td>2018-01-04</td>\n",
       "      <td>André Alves</td>\n",
       "      <td>M</td>\n",
       "      <td>8/3/1962</td>\n",
       "      <td>Salvador</td>\n",
       "      <td>cadeira</td>\n",
       "      <td>540.0</td>\n",
       "      <td>2018-02-14</td>\n",
       "    </tr>\n",
       "    <tr>\n",
       "      <th>4</th>\n",
       "      <td>59</td>\n",
       "      <td>4</td>\n",
       "      <td>3</td>\n",
       "      <td>2018-01-05</td>\n",
       "      <td>Rodrigo Ribeiro</td>\n",
       "      <td>M</td>\n",
       "      <td>11/5/1941</td>\n",
       "      <td>Belo Horizonte</td>\n",
       "      <td>laptop básico</td>\n",
       "      <td>2300.0</td>\n",
       "      <td>NaT</td>\n",
       "    </tr>\n",
       "    <tr>\n",
       "      <th>5</th>\n",
       "      <td>18</td>\n",
       "      <td>9</td>\n",
       "      <td>1</td>\n",
       "      <td>2018-01-05</td>\n",
       "      <td>Antônio Azevedo</td>\n",
       "      <td>M</td>\n",
       "      <td>4/15/1941</td>\n",
       "      <td>Palmas</td>\n",
       "      <td>mouse</td>\n",
       "      <td>20.0</td>\n",
       "      <td>2018-01-23</td>\n",
       "    </tr>\n",
       "    <tr>\n",
       "      <th>...</th>\n",
       "      <td>...</td>\n",
       "      <td>...</td>\n",
       "      <td>...</td>\n",
       "      <td>...</td>\n",
       "      <td>...</td>\n",
       "      <td>...</td>\n",
       "      <td>...</td>\n",
       "      <td>...</td>\n",
       "      <td>...</td>\n",
       "      <td>...</td>\n",
       "      <td>...</td>\n",
       "    </tr>\n",
       "    <tr>\n",
       "      <th>2996</th>\n",
       "      <td>671</td>\n",
       "      <td>3</td>\n",
       "      <td>7</td>\n",
       "      <td>2020-09-27</td>\n",
       "      <td>Ana Goncalves</td>\n",
       "      <td>F</td>\n",
       "      <td>10/31/1999</td>\n",
       "      <td>Curitiba</td>\n",
       "      <td>carregador</td>\n",
       "      <td>150.0</td>\n",
       "      <td>2020-10-17</td>\n",
       "    </tr>\n",
       "    <tr>\n",
       "      <th>2997</th>\n",
       "      <td>586</td>\n",
       "      <td>8</td>\n",
       "      <td>3</td>\n",
       "      <td>2020-09-27</td>\n",
       "      <td>Aline Pinto</td>\n",
       "      <td>F</td>\n",
       "      <td>3/29/1994</td>\n",
       "      <td>Brasília</td>\n",
       "      <td>laptop básico</td>\n",
       "      <td>2300.0</td>\n",
       "      <td>2020-10-02</td>\n",
       "    </tr>\n",
       "    <tr>\n",
       "      <th>2998</th>\n",
       "      <td>731</td>\n",
       "      <td>2</td>\n",
       "      <td>4</td>\n",
       "      <td>2020-09-27</td>\n",
       "      <td>Otávio Silva</td>\n",
       "      <td>M</td>\n",
       "      <td>5/4/1986</td>\n",
       "      <td>Rio de Janeiro</td>\n",
       "      <td>laptop gamer</td>\n",
       "      <td>5300.0</td>\n",
       "      <td>NaT</td>\n",
       "    </tr>\n",
       "    <tr>\n",
       "      <th>2999</th>\n",
       "      <td>163</td>\n",
       "      <td>2</td>\n",
       "      <td>1</td>\n",
       "      <td>2020-09-27</td>\n",
       "      <td>Ana Pereira</td>\n",
       "      <td>F</td>\n",
       "      <td>1/10/1967</td>\n",
       "      <td>Rio de Janeiro</td>\n",
       "      <td>mouse</td>\n",
       "      <td>20.0</td>\n",
       "      <td>NaT</td>\n",
       "    </tr>\n",
       "    <tr>\n",
       "      <th>3000</th>\n",
       "      <td>770</td>\n",
       "      <td>2</td>\n",
       "      <td>2</td>\n",
       "      <td>2020-09-27</td>\n",
       "      <td>Beatrice Castro</td>\n",
       "      <td>F</td>\n",
       "      <td>6/25/1944</td>\n",
       "      <td>Rio de Janeiro</td>\n",
       "      <td>teclado</td>\n",
       "      <td>30.0</td>\n",
       "      <td>NaT</td>\n",
       "    </tr>\n",
       "  </tbody>\n",
       "</table>\n",
       "<p>3000 rows × 11 columns</p>\n",
       "</div>"
      ],
      "text/plain": [
       "      id_cliente  id_loja  id_produto   dt_venda    clientes_nome  \\\n",
       "id                                                                  \n",
       "1            393        9           3 2018-01-04    Gustavo Silva   \n",
       "2            417        9           3 2018-01-04   Leonor Almeida   \n",
       "3            374        7           8 2018-01-04      André Alves   \n",
       "4             59        4           3 2018-01-05  Rodrigo Ribeiro   \n",
       "5             18        9           1 2018-01-05  Antônio Azevedo   \n",
       "...          ...      ...         ...        ...              ...   \n",
       "2996         671        3           7 2020-09-27    Ana Goncalves   \n",
       "2997         586        8           3 2020-09-27      Aline Pinto   \n",
       "2998         731        2           4 2020-09-27     Otávio Silva   \n",
       "2999         163        2           1 2020-09-27      Ana Pereira   \n",
       "3000         770        2           2 2020-09-27  Beatrice Castro   \n",
       "\n",
       "     clientes_sexo clientes_dt_nasc     loja_cidade produto_produto  \\\n",
       "id                                                                    \n",
       "1                M         1/4/1950          Palmas   laptop básico   \n",
       "2                F        1/31/1972          Palmas   laptop básico   \n",
       "3                M         8/3/1962        Salvador         cadeira   \n",
       "4                M        11/5/1941  Belo Horizonte   laptop básico   \n",
       "5                M        4/15/1941          Palmas           mouse   \n",
       "...            ...              ...             ...             ...   \n",
       "2996             F       10/31/1999        Curitiba      carregador   \n",
       "2997             F        3/29/1994        Brasília   laptop básico   \n",
       "2998             M         5/4/1986  Rio de Janeiro    laptop gamer   \n",
       "2999             F        1/10/1967  Rio de Janeiro           mouse   \n",
       "3000             F        6/25/1944  Rio de Janeiro         teclado   \n",
       "\n",
       "      produto_valor    dt_pgto  \n",
       "id                              \n",
       "1            2300.0 2018-01-24  \n",
       "2            2300.0 2018-02-17  \n",
       "3             540.0 2018-02-14  \n",
       "4            2300.0        NaT  \n",
       "5              20.0 2018-01-23  \n",
       "...             ...        ...  \n",
       "2996          150.0 2020-10-17  \n",
       "2997         2300.0 2020-10-02  \n",
       "2998         5300.0        NaT  \n",
       "2999           20.0        NaT  \n",
       "3000           30.0        NaT  \n",
       "\n",
       "[3000 rows x 11 columns]"
      ]
     },
     "execution_count": 5,
     "metadata": {},
     "output_type": "execute_result"
    }
   ],
   "source": [
    "df"
   ]
  },
  {
   "cell_type": "markdown",
   "id": "2bb44fb9-af89-4435-b139-8e860f0dbece",
   "metadata": {
    "tags": []
   },
   "source": [
    "### Receita por Loja"
   ]
  },
  {
   "cell_type": "code",
   "execution_count": 6,
   "id": "a57081e1-363a-4099-8216-4fb39d9ae29a",
   "metadata": {},
   "outputs": [
    {
     "data": {
      "text/plain": [
       "loja_cidade\n",
       "Rio de Janeiro    191248728.0\n",
       "Vitória            71008264.0\n",
       "Curitiba           58101796.0\n",
       "Salvador           51751732.0\n",
       "Palmas             48482300.0\n",
       "Brasília           38910354.0\n",
       "Recife             38865294.0\n",
       "Belo Horizonte     35697062.0\n",
       "Santa Catarina     32423640.0\n",
       "São Paulo          22817974.0\n",
       "Name: produto_valor, dtype: float64"
      ]
     },
     "execution_count": 6,
     "metadata": {},
     "output_type": "execute_result"
    }
   ],
   "source": [
    "# df[['loja_cidade', 'produto_valor']] -> aplicando um filtro. O Esforço computacional dessa forma é muito inferior,\n",
    "# pois já está aplicando um filtro no data frame antes de fazer as contas matemáticas\n",
    "# -- ------------------------\n",
    "# groupby('loja_cidade') -> Está agrupando pela cidades.\n",
    "# sum().produto_valor -> está somando todos os produtos vendidos por cidade.\n",
    "# produto_valor -> estar trabalhando com a coluna `produto_valor`\n",
    "# sort_values(ascending=False) -> Ordenando do maior para menor\n",
    "graf_dados = df[['loja_cidade', 'produto_valor']].groupby('loja_cidade').sum().produto_valor.sort_values(ascending=False)\n",
    "graf_dados"
   ]
  },
  {
   "cell_type": "code",
   "execution_count": 7,
   "id": "7f671e83-6373-45da-816a-7b708729f4ea",
   "metadata": {},
   "outputs": [
    {
     "data": {
      "text/plain": [
       "Text(0.5, 1.0, 'Receita por Loja')"
      ]
     },
     "execution_count": 7,
     "metadata": {},
     "output_type": "execute_result"
    },
    {
     "data": {
      "image/png": "[encoded data removed]",
      "text/plain": [
       "<Figure size 1500x500 with 1 Axes>"
      ]
     },
     "metadata": {},
     "output_type": "display_data"
    }
   ],
   "source": [
    "# figsize=(15, 5) -> O tamanho da figura\n",
    "# plt.bar(categorias, valor) -> Criando um gráfico de barras que cotem a categoria e o valor \n",
    "# As categorias está no `graf_dados.index` que são o nome de cada cidade\n",
    "# O valor está no `graf_dados.values` que são os valores\n",
    "# title('Vendas por Loja') -> Titulo do gráfico\n",
    "\n",
    "import matplotlib.pyplot as plt\n",
    "\n",
    "plt.figure(figsize=(15, 5))\n",
    "plt.bar(graf_dados.index, graf_dados.values)\n",
    "plt.title('Receita por Loja')"
   ]
  },
  {
   "cell_type": "code",
   "execution_count": 8,
   "id": "2d319c7f-3d7b-4ff6-8028-c812682f1ecc",
   "metadata": {},
   "outputs": [
    {
     "name": "stdout",
     "output_type": "stream",
     "text": [
      "O maior valor é 191248728, sendo 4.32 vezes a média dos demais, que é 44228712\n"
     ]
    }
   ],
   "source": [
    "print('O maior valor é %i, sendo %.2f vezes a média dos demais, que é %i' % (graf_dados.max(), graf_dados.max() / graf_dados[graf_dados != graf_dados.max()].mean(), graf_dados[graf_dados != graf_dados.max()].mean()))"
   ]
  },
  {
   "cell_type": "code",
   "execution_count": 9,
   "id": "0ddf5e10-af51-498a-8be5-729f4e2f070f",
   "metadata": {},
   "outputs": [
    {
     "name": "stdout",
     "output_type": "stream",
     "text": [
      "O maior valor é 191248728, sendo 4.32 vezes a média dos demais, que é 44228712\n"
     ]
    }
   ],
   "source": [
    "# Formatado\n",
    "maiorValor  = graf_dados.max()\n",
    "porcentagem = graf_dados.max() / graf_dados[graf_dados != graf_dados.max()].mean()\n",
    "media       = graf_dados[graf_dados != graf_dados.max()].mean()\n",
    "\n",
    "print('O maior valor é %i, sendo %.2f vezes a média dos demais, que é %i' % (maiorValor, porcentagem, media))"
   ]
  },
  {
   "cell_type": "code",
   "execution_count": 10,
   "id": "959fca28-8f1f-4640-9fc6-63a593a84d46",
   "metadata": {},
   "outputs": [
    {
     "name": "stdout",
     "output_type": "stream",
     "text": [
      "O maior valor é 191248728, sendo 4.32 vezes a média dos demais, que é 44228712\n"
     ]
    }
   ],
   "source": [
    "# Descobrir quantos porcentos na média que é a Receita do Rio de Janeiro\n",
    "# graf_dados.max() -> Está pegando o maior valor, que é o Rio de Janeiro (vai dividir pela media dos demais).\n",
    "# graf_dados[graf_dados != graf_dados.max()].mean() -> O que ta [] vai ta filtrando e retirando o valor maximo da media\n",
    "\n",
    "maiorValor  = graf_dados.max()\n",
    "porcentagem = graf_dados.max() / graf_dados[graf_dados != graf_dados.max()].mean()\n",
    "media       = graf_dados[graf_dados != graf_dados.max()].mean()\n",
    "\n",
    "print('O maior valor é %i, sendo %.2f vezes a média dos demais, que é %i' % (maiorValor, porcentagem, media))"
   ]
  },
  {
   "cell_type": "markdown",
   "id": "9c1664a7-6fcd-431f-bb57-0eb90c466e00",
   "metadata": {},
   "source": [
    "### Receita por produto"
   ]
  },
  {
   "cell_type": "code",
   "execution_count": 11,
   "id": "f107ed53-8715-4151-aa9a-132d7fa2cfe0",
   "metadata": {},
   "outputs": [
    {
     "data": {
      "text/plain": [
       "produto_produto\n",
       "xxx-231a         584466064.0\n",
       "laptop básico      3208500.0\n",
       "laptop gamer        954000.0\n",
       "monitor             280500.0\n",
       "mesa                147060.0\n",
       "impressora          133700.0\n",
       "cadeira              83160.0\n",
       "carregador           24600.0\n",
       "teclado               6120.0\n",
       "mouse                 3440.0\n",
       "Name: produto_valor, dtype: float64"
      ]
     },
     "execution_count": 11,
     "metadata": {},
     "output_type": "execute_result"
    }
   ],
   "source": [
    "graf_dados = df[['produto_produto', 'produto_valor']].groupby('produto_produto').sum().produto_valor.sort_values(ascending=False)\n",
    "graf_dados"
   ]
  },
  {
   "cell_type": "code",
   "execution_count": 12,
   "id": "6ab78652-673d-4a99-b05c-756f346780f4",
   "metadata": {},
   "outputs": [
    {
     "data": {
      "text/plain": [
       "Text(0.5, 1.0, 'Receita por produto')"
      ]
     },
     "execution_count": 12,
     "metadata": {},
     "output_type": "execute_result"
    },
    {
     "data": {
      "image/png": "[encoded data removed]",
      "text/plain": [
       "<Figure size 1500x500 with 1 Axes>"
      ]
     },
     "metadata": {},
     "output_type": "display_data"
    }
   ],
   "source": [
    "plt.figure(figsize=(15, 5))\n",
    "plt.bar(graf_dados.index, graf_dados.values)\n",
    "plt.title('Receita por produto')"
   ]
  }
 ],
 "metadata": {
  "kernelspec": {
   "display_name": "Python 3 (ipykernel)",
   "language": "python",
   "name": "python3"
  },
  "language_info": {
   "codemirror_mode": {
    "name": "ipython",
    "version": 3
   },
   "file_extension": ".py",
   "mimetype": "text/x-python",
   "name": "python",
   "nbconvert_exporter": "python",
   "pygments_lexer": "ipython3",
   "version": "3.10.6"
  }
 },
 "nbformat": 4,
 "nbformat_minor": 5
}
