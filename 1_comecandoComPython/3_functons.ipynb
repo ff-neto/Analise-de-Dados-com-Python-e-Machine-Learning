{
 "cells": [
  {
   "cell_type": "code",
   "execution_count": 1,
   "id": "aeffcf06-55ef-4177-88f8-91f53d4fb2be",
   "metadata": {},
   "outputs": [],
   "source": [
    "# executando a função faixaIdade()\n",
    "import minhaFuncao as mf"
   ]
  },
  {
   "cell_type": "code",
   "execution_count": 2,
   "id": "997cd6f1-c9bf-4dc7-9994-e4a26df88baa",
   "metadata": {},
   "outputs": [
    {
     "data": {
      "text/plain": [
       "'Criança'"
      ]
     },
     "execution_count": 2,
     "metadata": {},
     "output_type": "execute_result"
    }
   ],
   "source": [
    "mf.faixaIdade(10)"
   ]
  },
  {
   "cell_type": "code",
   "execution_count": 3,
   "id": "b7b6c02c-65ce-41f5-b6b9-6fce6b6796f2",
   "metadata": {},
   "outputs": [
    {
     "data": {
      "text/plain": [
       "'Idoso'"
      ]
     },
     "execution_count": 3,
     "metadata": {},
     "output_type": "execute_result"
    }
   ],
   "source": [
    "mf.faixaIdade(81)"
   ]
  },
  {
   "cell_type": "code",
   "execution_count": 4,
   "id": "e9922869-4683-4b68-8490-4e20c74b56e2",
   "metadata": {},
   "outputs": [
    {
     "data": {
      "text/plain": [
       "'Adulto'"
      ]
     },
     "execution_count": 4,
     "metadata": {},
     "output_type": "execute_result"
    }
   ],
   "source": [
    "mf.faixaIdade(35)"
   ]
  },
  {
   "cell_type": "code",
   "execution_count": 5,
   "id": "338aa652-0776-4ebc-bba7-99c5eabc34b3",
   "metadata": {},
   "outputs": [
    {
     "data": {
      "text/plain": [
       "'Adolescente'"
      ]
     },
     "execution_count": 5,
     "metadata": {},
     "output_type": "execute_result"
    }
   ],
   "source": [
    "mf.faixaIdade(14)"
   ]
  },
  {
   "cell_type": "code",
   "execution_count": 6,
   "id": "045294a2-0c48-4a17-8cbd-7c62dccce4df",
   "metadata": {},
   "outputs": [
    {
     "data": {
      "text/plain": [
       "20"
      ]
     },
     "execution_count": 6,
     "metadata": {},
     "output_type": "execute_result"
    }
   ],
   "source": [
    "mf.somaQuadrdo(2, 4)"
   ]
  }
 ],
 "metadata": {
  "kernelspec": {
   "display_name": "Python 3 (ipykernel)",
   "language": "python",
   "name": "python3"
  },
  "language_info": {
   "codemirror_mode": {
    "name": "ipython",
    "version": 3
   },
   "file_extension": ".py",
   "mimetype": "text/x-python",
   "name": "python",
   "nbconvert_exporter": "python",
   "pygments_lexer": "ipython3",
   "version": "3.10.6"
  }
 },
 "nbformat": 4,
 "nbformat_minor": 5
}
