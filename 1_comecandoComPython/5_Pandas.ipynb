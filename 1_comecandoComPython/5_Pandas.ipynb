{
 "cells": [
  {
   "cell_type": "code",
   "execution_count": 1,
   "id": "4b723ed3-03a4-4e6c-b0f7-311532758bb2",
   "metadata": {},
   "outputs": [],
   "source": [
    "import pandas as pd"
   ]
  },
  {
   "cell_type": "code",
   "execution_count": 2,
   "id": "e336979d-f6f6-4358-bf13-59e4cd67567e",
   "metadata": {},
   "outputs": [
    {
     "data": {
      "text/plain": [
       "'\\n    Pandas é uma biblioteca para manipular dados de forma\\n    estruturadas.\\n'"
      ]
     },
     "execution_count": 2,
     "metadata": {},
     "output_type": "execute_result"
    }
   ],
   "source": [
    "\"\"\"\n",
    "    Pandas é uma biblioteca para manipular dados de forma\n",
    "    estruturadas.\n",
    "\"\"\""
   ]
  },
  {
   "cell_type": "code",
   "execution_count": 3,
   "id": "b7d82dbb-2f59-4f48-99b3-e083fe4c7445",
   "metadata": {},
   "outputs": [],
   "source": [
    "# O pandas tem a facilidade a manipulação de dados.\n",
    "# A sua performace é inferior a do Numpy"
   ]
  },
  {
   "cell_type": "code",
   "execution_count": 4,
   "id": "0f7979c8-dc16-44b3-a6f8-5bf3c1a5620d",
   "metadata": {},
   "outputs": [],
   "source": [
    "# data frame: são estrutura cimilares a tabela, como se fosse banco de dados\n",
    "tabela = pd.DataFrame({ \n",
    "    'nome': [\n",
    "        'Rafael',\n",
    "        'Joao',\n",
    "        'Felipe',\n",
    "        'Maria'\n",
    "        ],\n",
    "    'nota': [\n",
    "        10,\n",
    "        9,\n",
    "        8,\n",
    "        7\n",
    "    ] \n",
    "})"
   ]
  },
  {
   "cell_type": "code",
   "execution_count": 5,
   "id": "a3978bb5-7931-4f78-85a1-9bc9284814fe",
   "metadata": {},
   "outputs": [
    {
     "data": {
      "text/html": [
       "<div>\n",
       "<style scoped>\n",
       "    .dataframe tbody tr th:only-of-type {\n",
       "        vertical-align: middle;\n",
       "    }\n",
       "\n",
       "    .dataframe tbody tr th {\n",
       "        vertical-align: top;\n",
       "    }\n",
       "\n",
       "    .dataframe thead th {\n",
       "        text-align: right;\n",
       "    }\n",
       "</style>\n",
       "<table border=\"1\" class=\"dataframe\">\n",
       "  <thead>\n",
       "    <tr style=\"text-align: right;\">\n",
       "      <th></th>\n",
       "      <th>nome</th>\n",
       "      <th>nota</th>\n",
       "    </tr>\n",
       "  </thead>\n",
       "  <tbody>\n",
       "    <tr>\n",
       "      <th>0</th>\n",
       "      <td>Rafael</td>\n",
       "      <td>10</td>\n",
       "    </tr>\n",
       "    <tr>\n",
       "      <th>1</th>\n",
       "      <td>Joao</td>\n",
       "      <td>9</td>\n",
       "    </tr>\n",
       "    <tr>\n",
       "      <th>2</th>\n",
       "      <td>Felipe</td>\n",
       "      <td>8</td>\n",
       "    </tr>\n",
       "    <tr>\n",
       "      <th>3</th>\n",
       "      <td>Maria</td>\n",
       "      <td>7</td>\n",
       "    </tr>\n",
       "  </tbody>\n",
       "</table>\n",
       "</div>"
      ],
      "text/plain": [
       "     nome  nota\n",
       "0  Rafael    10\n",
       "1    Joao     9\n",
       "2  Felipe     8\n",
       "3   Maria     7"
      ]
     },
     "execution_count": 5,
     "metadata": {},
     "output_type": "execute_result"
    }
   ],
   "source": [
    "tabela"
   ]
  },
  {
   "cell_type": "code",
   "execution_count": 6,
   "id": "9fdda2f7-0f59-47dc-af1d-50ee4444380b",
   "metadata": {},
   "outputs": [
    {
     "data": {
      "text/plain": [
       "0    Rafael\n",
       "1      Joao\n",
       "2    Felipe\n",
       "3     Maria\n",
       "Name: nome, dtype: object"
      ]
     },
     "execution_count": 6,
     "metadata": {},
     "output_type": "execute_result"
    }
   ],
   "source": [
    "tabela.nome"
   ]
  },
  {
   "cell_type": "code",
   "execution_count": 7,
   "id": "ffdd9d1c-6069-4abf-b8de-1f275ea84def",
   "metadata": {},
   "outputs": [
    {
     "data": {
      "text/plain": [
       "'Felipe'"
      ]
     },
     "execution_count": 7,
     "metadata": {},
     "output_type": "execute_result"
    }
   ],
   "source": [
    "tabela.nome[2]"
   ]
  },
  {
   "cell_type": "code",
   "execution_count": 8,
   "id": "b3c47c91-c32c-4cf5-b79d-50c145d0b9b8",
   "metadata": {},
   "outputs": [
    {
     "data": {
      "text/plain": [
       "'Felipe'"
      ]
     },
     "execution_count": 8,
     "metadata": {},
     "output_type": "execute_result"
    }
   ],
   "source": [
    "# número da linha depois o nome da coluna\n",
    "tabela.loc[2, 'nome']"
   ]
  },
  {
   "cell_type": "code",
   "execution_count": 9,
   "id": "ac68955d-5773-4f3d-bdd1-2e9dfb49fa99",
   "metadata": {},
   "outputs": [
    {
     "data": {
      "text/html": [
       "<div>\n",
       "<style scoped>\n",
       "    .dataframe tbody tr th:only-of-type {\n",
       "        vertical-align: middle;\n",
       "    }\n",
       "\n",
       "    .dataframe tbody tr th {\n",
       "        vertical-align: top;\n",
       "    }\n",
       "\n",
       "    .dataframe thead th {\n",
       "        text-align: right;\n",
       "    }\n",
       "</style>\n",
       "<table border=\"1\" class=\"dataframe\">\n",
       "  <thead>\n",
       "    <tr style=\"text-align: right;\">\n",
       "      <th></th>\n",
       "      <th>nota</th>\n",
       "    </tr>\n",
       "    <tr>\n",
       "      <th>nome</th>\n",
       "      <th></th>\n",
       "    </tr>\n",
       "  </thead>\n",
       "  <tbody>\n",
       "    <tr>\n",
       "      <th>Felipe</th>\n",
       "      <td>8.0</td>\n",
       "    </tr>\n",
       "    <tr>\n",
       "      <th>Joao</th>\n",
       "      <td>9.0</td>\n",
       "    </tr>\n",
       "    <tr>\n",
       "      <th>Maria</th>\n",
       "      <td>7.0</td>\n",
       "    </tr>\n",
       "    <tr>\n",
       "      <th>Rafael</th>\n",
       "      <td>10.0</td>\n",
       "    </tr>\n",
       "  </tbody>\n",
       "</table>\n",
       "</div>"
      ],
      "text/plain": [
       "        nota\n",
       "nome        \n",
       "Felipe   8.0\n",
       "Joao     9.0\n",
       "Maria    7.0\n",
       "Rafael  10.0"
      ]
     },
     "execution_count": 9,
     "metadata": {},
     "output_type": "execute_result"
    }
   ],
   "source": [
    "# Criar uma média baseado em nome\n",
    "tabela.groupby('nome').mean()"
   ]
  },
  {
   "cell_type": "code",
   "execution_count": 10,
   "id": "02aba78c-01a5-4efd-8451-e71657c1f284",
   "metadata": {},
   "outputs": [
    {
     "data": {
      "text/plain": [
       "2    8\n",
       "Name: nota, dtype: int64"
      ]
     },
     "execution_count": 10,
     "metadata": {},
     "output_type": "execute_result"
    }
   ],
   "source": [
    "# Filtro: bscar nota de felipe\n",
    "tabela.nota[tabela.nome == 'Felipe']"
   ]
  }
 ],
 "metadata": {
  "kernelspec": {
   "display_name": "Python 3 (ipykernel)",
   "language": "python",
   "name": "python3"
  },
  "language_info": {
   "codemirror_mode": {
    "name": "ipython",
    "version": 3
   },
   "file_extension": ".py",
   "mimetype": "text/x-python",
   "name": "python",
   "nbconvert_exporter": "python",
   "pygments_lexer": "ipython3",
   "version": "3.10.6"
  }
 },
 "nbformat": 4,
 "nbformat_minor": 5
}
