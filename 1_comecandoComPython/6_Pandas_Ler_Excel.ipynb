{
 "cells": [
  {
   "cell_type": "code",
   "execution_count": 1,
   "id": "18e040ca-72e3-449a-b038-96bce7c29d22",
   "metadata": {},
   "outputs": [],
   "source": [
    "import pandas as pd"
   ]
  },
  {
   "cell_type": "code",
   "execution_count": 2,
   "id": "ed6a1f84-551b-4474-9397-4da06542d10b",
   "metadata": {},
   "outputs": [],
   "source": [
    "dados_pessoas = pd.read_excel('dados.xlsx', sheet_name='pessoas')\n",
    "dados_notas = pd.read_excel('dados.xlsx', sheet_name='notas')"
   ]
  },
  {
   "cell_type": "code",
   "execution_count": 3,
   "id": "19cc2e22-46b9-4ef3-8739-c27eeefa680f",
   "metadata": {},
   "outputs": [
    {
     "data": {
      "text/html": [
       "<div>\n",
       "<style scoped>\n",
       "    .dataframe tbody tr th:only-of-type {\n",
       "        vertical-align: middle;\n",
       "    }\n",
       "\n",
       "    .dataframe tbody tr th {\n",
       "        vertical-align: top;\n",
       "    }\n",
       "\n",
       "    .dataframe thead th {\n",
       "        text-align: right;\n",
       "    }\n",
       "</style>\n",
       "<table border=\"1\" class=\"dataframe\">\n",
       "  <thead>\n",
       "    <tr style=\"text-align: right;\">\n",
       "      <th></th>\n",
       "      <th>nome</th>\n",
       "      <th>idade</th>\n",
       "    </tr>\n",
       "  </thead>\n",
       "  <tbody>\n",
       "    <tr>\n",
       "      <th>0</th>\n",
       "      <td>rafael</td>\n",
       "      <td>15</td>\n",
       "    </tr>\n",
       "    <tr>\n",
       "      <th>1</th>\n",
       "      <td>joao</td>\n",
       "      <td>10</td>\n",
       "    </tr>\n",
       "    <tr>\n",
       "      <th>2</th>\n",
       "      <td>maria</td>\n",
       "      <td>18</td>\n",
       "    </tr>\n",
       "    <tr>\n",
       "      <th>3</th>\n",
       "      <td>mateus</td>\n",
       "      <td>12</td>\n",
       "    </tr>\n",
       "    <tr>\n",
       "      <th>4</th>\n",
       "      <td>pedro</td>\n",
       "      <td>11</td>\n",
       "    </tr>\n",
       "    <tr>\n",
       "      <th>5</th>\n",
       "      <td>ana</td>\n",
       "      <td>19</td>\n",
       "    </tr>\n",
       "  </tbody>\n",
       "</table>\n",
       "</div>"
      ],
      "text/plain": [
       "     nome  idade\n",
       "0  rafael     15\n",
       "1    joao     10\n",
       "2   maria     18\n",
       "3  mateus     12\n",
       "4   pedro     11\n",
       "5     ana     19"
      ]
     },
     "execution_count": 3,
     "metadata": {},
     "output_type": "execute_result"
    }
   ],
   "source": [
    "dados_pessoas"
   ]
  },
  {
   "cell_type": "code",
   "execution_count": 4,
   "id": "d34ebb3e-9d03-4994-bc06-566363c79be3",
   "metadata": {},
   "outputs": [],
   "source": [
    "# dentro da variavel notas, a coluna nome é a variavel chave,\n",
    "# que está fazendo um join com data frame dados pessoas, informando que o nome é a chave.\n",
    "dados_todos = dados_notas.set_index('nome').join(dados_pessoas.set_index('nome'))"
   ]
  },
  {
   "cell_type": "code",
   "execution_count": 5,
   "id": "9644bc43-65ac-4a7a-8416-08c6b6adb91d",
   "metadata": {},
   "outputs": [
    {
     "data": {
      "text/html": [
       "<div>\n",
       "<style scoped>\n",
       "    .dataframe tbody tr th:only-of-type {\n",
       "        vertical-align: middle;\n",
       "    }\n",
       "\n",
       "    .dataframe tbody tr th {\n",
       "        vertical-align: top;\n",
       "    }\n",
       "\n",
       "    .dataframe thead th {\n",
       "        text-align: right;\n",
       "    }\n",
       "</style>\n",
       "<table border=\"1\" class=\"dataframe\">\n",
       "  <thead>\n",
       "    <tr style=\"text-align: right;\">\n",
       "      <th></th>\n",
       "      <th>semestre</th>\n",
       "      <th>nota</th>\n",
       "      <th>idade</th>\n",
       "    </tr>\n",
       "    <tr>\n",
       "      <th>nome</th>\n",
       "      <th></th>\n",
       "      <th></th>\n",
       "      <th></th>\n",
       "    </tr>\n",
       "  </thead>\n",
       "  <tbody>\n",
       "    <tr>\n",
       "      <th>ana</th>\n",
       "      <td>1</td>\n",
       "      <td>10</td>\n",
       "      <td>19</td>\n",
       "    </tr>\n",
       "    <tr>\n",
       "      <th>ana</th>\n",
       "      <td>2</td>\n",
       "      <td>6</td>\n",
       "      <td>19</td>\n",
       "    </tr>\n",
       "    <tr>\n",
       "      <th>joao</th>\n",
       "      <td>1</td>\n",
       "      <td>4</td>\n",
       "      <td>10</td>\n",
       "    </tr>\n",
       "    <tr>\n",
       "      <th>joao</th>\n",
       "      <td>2</td>\n",
       "      <td>8</td>\n",
       "      <td>10</td>\n",
       "    </tr>\n",
       "    <tr>\n",
       "      <th>maria</th>\n",
       "      <td>1</td>\n",
       "      <td>9</td>\n",
       "      <td>18</td>\n",
       "    </tr>\n",
       "    <tr>\n",
       "      <th>maria</th>\n",
       "      <td>2</td>\n",
       "      <td>6</td>\n",
       "      <td>18</td>\n",
       "    </tr>\n",
       "    <tr>\n",
       "      <th>mateus</th>\n",
       "      <td>1</td>\n",
       "      <td>8</td>\n",
       "      <td>12</td>\n",
       "    </tr>\n",
       "    <tr>\n",
       "      <th>mateus</th>\n",
       "      <td>2</td>\n",
       "      <td>9</td>\n",
       "      <td>12</td>\n",
       "    </tr>\n",
       "    <tr>\n",
       "      <th>pedro</th>\n",
       "      <td>1</td>\n",
       "      <td>7</td>\n",
       "      <td>11</td>\n",
       "    </tr>\n",
       "    <tr>\n",
       "      <th>pedro</th>\n",
       "      <td>2</td>\n",
       "      <td>8</td>\n",
       "      <td>11</td>\n",
       "    </tr>\n",
       "    <tr>\n",
       "      <th>rafael</th>\n",
       "      <td>1</td>\n",
       "      <td>7</td>\n",
       "      <td>15</td>\n",
       "    </tr>\n",
       "    <tr>\n",
       "      <th>rafael</th>\n",
       "      <td>2</td>\n",
       "      <td>10</td>\n",
       "      <td>15</td>\n",
       "    </tr>\n",
       "  </tbody>\n",
       "</table>\n",
       "</div>"
      ],
      "text/plain": [
       "        semestre  nota  idade\n",
       "nome                         \n",
       "ana            1    10     19\n",
       "ana            2     6     19\n",
       "joao           1     4     10\n",
       "joao           2     8     10\n",
       "maria          1     9     18\n",
       "maria          2     6     18\n",
       "mateus         1     8     12\n",
       "mateus         2     9     12\n",
       "pedro          1     7     11\n",
       "pedro          2     8     11\n",
       "rafael         1     7     15\n",
       "rafael         2    10     15"
      ]
     },
     "execution_count": 5,
     "metadata": {},
     "output_type": "execute_result"
    }
   ],
   "source": [
    "dados_todos"
   ]
  },
  {
   "cell_type": "code",
   "execution_count": 6,
   "id": "01c41667-e4b5-4fd6-8c8e-571a5e6c7d17",
   "metadata": {},
   "outputs": [],
   "source": [
    "# Esté fazndo um agrupamento por nome com dados_todos\n",
    "# define qual a coluna que exibe o resultado. Nota\n",
    "medias = dados_todos.groupby('nome').nota.mean()"
   ]
  },
  {
   "cell_type": "code",
   "execution_count": 7,
   "id": "a3175f6e-756a-4891-bd52-eadc13ebc564",
   "metadata": {},
   "outputs": [
    {
     "data": {
      "text/plain": [
       "nome\n",
       "ana       8.0\n",
       "joao      6.0\n",
       "maria     7.5\n",
       "mateus    8.5\n",
       "pedro     7.5\n",
       "rafael    8.5\n",
       "Name: nota, dtype: float64"
      ]
     },
     "execution_count": 7,
     "metadata": {},
     "output_type": "execute_result"
    }
   ],
   "source": [
    "medias"
   ]
  },
  {
   "cell_type": "code",
   "execution_count": 8,
   "id": "725b1a2c-b402-4136-a2ce-78cb289ff7b4",
   "metadata": {},
   "outputs": [
    {
     "data": {
      "text/plain": [
       "nome\n",
       "ana       10\n",
       "joao       8\n",
       "maria      9\n",
       "mateus     9\n",
       "pedro      8\n",
       "rafael    10\n",
       "Name: nota, dtype: int64"
      ]
     },
     "execution_count": 8,
     "metadata": {},
     "output_type": "execute_result"
    }
   ],
   "source": [
    "# A máxima nota de cada pessoas\n",
    "maxima = dados_todos.groupby('nome').nota.max()\n",
    "maxima"
   ]
  },
  {
   "cell_type": "code",
   "execution_count": 9,
   "id": "deafc588-4b50-4f06-95a1-a70f117f7bb4",
   "metadata": {},
   "outputs": [],
   "source": [
    "medias.to_excel('saida.xlsx')"
   ]
  }
 ],
 "metadata": {
  "kernelspec": {
   "display_name": "Python 3 (ipykernel)",
   "language": "python",
   "name": "python3"
  },
  "language_info": {
   "codemirror_mode": {
    "name": "ipython",
    "version": 3
   },
   "file_extension": ".py",
   "mimetype": "text/x-python",
   "name": "python",
   "nbconvert_exporter": "python",
   "pygments_lexer": "ipython3",
   "version": "3.10.6"
  }
 },
 "nbformat": 4,
 "nbformat_minor": 5
}
