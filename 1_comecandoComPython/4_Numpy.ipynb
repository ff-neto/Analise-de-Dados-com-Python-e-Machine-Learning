{
 "cells": [
  {
   "cell_type": "code",
   "execution_count": 1,
   "id": "4b723ed3-03a4-4e6c-b0f7-311532758bb2",
   "metadata": {},
   "outputs": [],
   "source": [
    "import numpy as np"
   ]
  },
  {
   "cell_type": "markdown",
   "id": "1f91a7d1-73d3-4be5-9a0d-6976328b0388",
   "metadata": {
    "tags": []
   },
   "source": [
    "#### O Numpy nasceu para realizar operação matemática de forma eficiente"
   ]
  },
  {
   "cell_type": "code",
   "execution_count": 2,
   "id": "be432c51-c4c7-40d3-85d3-c3a1905fe49e",
   "metadata": {},
   "outputs": [],
   "source": [
    "idades = np.array([ 10, 15, 20, 18, 20 ])"
   ]
  },
  {
   "cell_type": "code",
   "execution_count": 3,
   "id": "d263f895-b955-480c-a5b7-6660aa3b4990",
   "metadata": {},
   "outputs": [],
   "source": [
    "notas = np.array([ 8, 8, 5, 7, 10 ])"
   ]
  },
  {
   "cell_type": "code",
   "execution_count": 4,
   "id": "744e8d87-953e-4488-ab9e-e1d2bec4abb0",
   "metadata": {},
   "outputs": [
    {
     "name": "stdout",
     "output_type": "stream",
     "text": [
      "[ 5 10]\n"
     ]
    }
   ],
   "source": [
    "print(notas[ idades == 20 ])"
   ]
  },
  {
   "cell_type": "code",
   "execution_count": 5,
   "id": "ad0dbb4d-a986-4f2b-ac1e-8b213171b116",
   "metadata": {},
   "outputs": [
    {
     "data": {
      "text/plain": [
       "16.6"
      ]
     },
     "execution_count": 5,
     "metadata": {},
     "output_type": "execute_result"
    }
   ],
   "source": [
    "# Funções especifica do numpy como máxima, média e mínima\n",
    "np.mean(idades)"
   ]
  },
  {
   "cell_type": "code",
   "execution_count": 6,
   "id": "d456cdab-862d-43d6-9a1b-fc6513424229",
   "metadata": {},
   "outputs": [],
   "source": [
    "# Um array multidimensional\n",
    "salario = np.array([ [ 1000, 1200, 1300 ], [ 800, 900, 950 ], [ 2000, 2100, 2110 ]])"
   ]
  }
 ],
 "metadata": {
  "kernelspec": {
   "display_name": "Python 3 (ipykernel)",
   "language": "python",
   "name": "python3"
  },
  "language_info": {
   "codemirror_mode": {
    "name": "ipython",
    "version": 3
   },
   "file_extension": ".py",
   "mimetype": "text/x-python",
   "name": "python",
   "nbconvert_exporter": "python",
   "pygments_lexer": "ipython3",
   "version": "3.10.6"
  }
 },
 "nbformat": 4,
 "nbformat_minor": 5
}
