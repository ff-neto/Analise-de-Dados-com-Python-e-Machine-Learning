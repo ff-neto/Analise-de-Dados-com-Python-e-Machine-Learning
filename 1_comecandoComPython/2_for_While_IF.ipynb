{
 "cells": [
  {
   "cell_type": "markdown",
   "id": "54d8e866-5496-4788-8427-8aea944e0a37",
   "metadata": {},
   "source": [
    "# 1_listas_Tuplas_E_Dicionáros"
   ]
  },
  {
   "cell_type": "code",
   "execution_count": 1,
   "id": "27c5aec7-77c5-4e6b-801a-a736edcf68cc",
   "metadata": {},
   "outputs": [],
   "source": [
    "# -----------------------------------------------------\n",
    "# Lista com três nomes dentro da variavel nome\n",
    "\"\"\"\n",
    "    A lista é um conjunto de informação que pode ter uma dimensão ou mais, \n",
    "    e ela pode sofrer alteração na execução do código. Então pode ter inserção\n",
    "    ou retirada de registro.\n",
    "\"\"\"\n",
    "nomes = ['Felipe', 'Maria', 'Anna']\n",
    "\n",
    "idades = [10, 20, 15]\n",
    "\n",
    "# -----------------------------------------------------\n",
    "# Quando os dados é colocado em () esse dados numca será alterado\n",
    "\"\"\"\n",
    "    A tupla não muda de alteração ao longo do código. Após criada não pode\n",
    "    inserir novas informações dentro.\n",
    "\"\"\"\n",
    "sexo = ('M', 'F', 'O')\n",
    "\n",
    "# -----------------------------------------------------\n",
    "# Dicionáros\n",
    "\"\"\"\n",
    "    O dicionário não tem dependência de uma coluna a outra em uma tabela. É uma\n",
    "    estrutura que você pode guardar essa informação de forma simples e regular no algoritmo\n",
    "\"\"\"\n",
    "# cadastro = {'nomes': ['Rafael', 'Joana']}\n",
    "cadastro = {\n",
    "    'nomes': nomes,\n",
    "    'idades': idades,\n",
    "    'cidade': ['A', 'B', 'C']\n",
    "}"
   ]
  },
  {
   "cell_type": "code",
   "execution_count": 2,
   "id": "8b1ba105-55e0-44f7-a8f8-cfe3e2d678ee",
   "metadata": {},
   "outputs": [
    {
     "name": "stdout",
     "output_type": "stream",
     "text": [
      "Felipe\n",
      "Maria\n",
      "Anna\n"
     ]
    }
   ],
   "source": [
    "# -----------------------------------------------------\n",
    "# O nome vai receber os valores dentro de nomes\n",
    "for nome in nomes:\n",
    "    print(nome)"
   ]
  },
  {
   "cell_type": "code",
   "execution_count": 3,
   "id": "c5e560b4-70ce-428c-9c2a-62d93faff728",
   "metadata": {},
   "outputs": [
    {
     "name": "stdout",
     "output_type": "stream",
     "text": [
      "10\n",
      "20\n",
      "15\n"
     ]
    }
   ],
   "source": [
    "# -----------------------------------------------------\n",
    "# A idade vai receber os valores dentro de idades e mostrar na tela idades positivas\n",
    "for idade in idades:\n",
    "    print(idade)"
   ]
  },
  {
   "cell_type": "code",
   "execution_count": 4,
   "id": "6bbe7c8a-1d57-491d-8c0a-f2d7c9acbff7",
   "metadata": {},
   "outputs": [
    {
     "name": "stdout",
     "output_type": "stream",
     "text": [
      "0\n",
      "1\n",
      "2\n",
      "3\n",
      "4\n",
      "5\n",
      "6\n",
      "7\n",
      "8\n",
      "9\n"
     ]
    }
   ],
   "source": [
    "# O i variando de 0 à 9\n",
    "for i in range(0, 10):\n",
    "    print(i)"
   ]
  },
  {
   "cell_type": "code",
   "execution_count": 5,
   "id": "4f703f2a-88a9-4714-8bdb-fb7a4ce414a9",
   "metadata": {},
   "outputs": [
    {
     "name": "stdout",
     "output_type": "stream",
     "text": [
      "10\n"
     ]
    }
   ],
   "source": [
    "# -----------------------------------------------------\n",
    "# O i vai pecorrer todas as idade, até que idade seja <= 10\n",
    "i = 0\n",
    "idade = idades[i]\n",
    "\n",
    "while idade <= 10:\n",
    "    print(idade)\n",
    "    i += 1\n",
    "    idade = idades[i]"
   ]
  }
 ],
 "metadata": {
  "kernelspec": {
   "display_name": "Python 3 (ipykernel)",
   "language": "python",
   "name": "python3"
  },
  "language_info": {
   "codemirror_mode": {
    "name": "ipython",
    "version": 3
   },
   "file_extension": ".py",
   "mimetype": "text/x-python",
   "name": "python",
   "nbconvert_exporter": "python",
   "pygments_lexer": "ipython3",
   "version": "3.10.6"
  }
 },
 "nbformat": 4,
 "nbformat_minor": 5
}
