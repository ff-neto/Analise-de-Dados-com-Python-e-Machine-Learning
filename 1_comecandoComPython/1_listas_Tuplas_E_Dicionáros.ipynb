{
 "cells": [
  {
   "cell_type": "markdown",
   "id": "54d8e866-5496-4788-8427-8aea944e0a37",
   "metadata": {},
   "source": [
    "# 1_listas_Tuplas_E_Dicionáros"
   ]
  },
  {
   "cell_type": "code",
   "execution_count": 1,
   "id": "27c5aec7-77c5-4e6b-801a-a736edcf68cc",
   "metadata": {},
   "outputs": [],
   "source": [
    "# Lista com três nomes dentro da variavel nome\n",
    "\"\"\"\n",
    "    A lista é um conjunto de informação que pode ter uma dimensão ou mais, \n",
    "    e ela pode sofrer alteração na execução do código. Então pode ter inserção\n",
    "    ou retirada de registro.\n",
    "\"\"\"\n",
    "nomes = ['Felipe', 'Maria', 'Anna']\n",
    "\n",
    "idades = [10, 20, 15]\n",
    "\n",
    "# Quando os dados é colocado em () esse dados numca será alterado\n",
    "\"\"\"\n",
    "    A tupla não muda de alteração ao longo do código. Após criada não pode\n",
    "    inserir novas informações dentro.\n",
    "\"\"\"\n",
    "sexo = ('M', 'F', 'O')\n",
    "\n",
    "# Dicionáros\n",
    "\"\"\"\n",
    "    O dicionário não tem dependência de uma coluna a outra em uma tabela. É uma\n",
    "    estrutura que você pode guardar essa informação de forma simples e regular no algoritmo\n",
    "\"\"\"\n",
    "# cadastro = {'nomes': ['Rafael', 'Joana']}\n",
    "cadastro = {\n",
    "    'nomes': nomes,\n",
    "    'idades': idades,\n",
    "    'cidade': ['A', 'B', 'C']\n",
    "}"
   ]
  },
  {
   "cell_type": "code",
   "execution_count": 2,
   "id": "5f46e8a9-a253-4268-8513-47a7f45d33bd",
   "metadata": {},
   "outputs": [
    {
     "data": {
      "text/plain": [
       "'Maria'"
      ]
     },
     "execution_count": 2,
     "metadata": {},
     "output_type": "execute_result"
    }
   ],
   "source": [
    "nomes[1]"
   ]
  },
  {
   "cell_type": "code",
   "execution_count": 3,
   "id": "83a75647-e8f2-4f17-9c2f-77a636cabedc",
   "metadata": {},
   "outputs": [
    {
     "data": {
      "text/plain": [
       "10"
      ]
     },
     "execution_count": 3,
     "metadata": {},
     "output_type": "execute_result"
    }
   ],
   "source": [
    "idades[0]"
   ]
  },
  {
   "cell_type": "code",
   "execution_count": 4,
   "id": "a03cbc8a-0ce2-4021-9277-c9238af07486",
   "metadata": {},
   "outputs": [
    {
     "data": {
      "text/plain": [
       "'M'"
      ]
     },
     "execution_count": 4,
     "metadata": {},
     "output_type": "execute_result"
    }
   ],
   "source": [
    "sexo[0]"
   ]
  },
  {
   "cell_type": "code",
   "execution_count": 5,
   "id": "658ce0d8-2321-48b1-bb4c-0d77841017ab",
   "metadata": {},
   "outputs": [
    {
     "data": {
      "text/plain": [
       "['Felipe', 'Maria', 'Anna']"
      ]
     },
     "execution_count": 5,
     "metadata": {},
     "output_type": "execute_result"
    }
   ],
   "source": [
    "cadastro['nomes']"
   ]
  },
  {
   "cell_type": "code",
   "execution_count": 6,
   "id": "8392d123-d3b7-4658-8266-8561f1aa3f6c",
   "metadata": {},
   "outputs": [
    {
     "data": {
      "text/plain": [
       "'Felipe'"
      ]
     },
     "execution_count": 6,
     "metadata": {},
     "output_type": "execute_result"
    }
   ],
   "source": [
    "cadastro['nomes'][0]"
   ]
  },
  {
   "cell_type": "code",
   "execution_count": 7,
   "id": "9d0437c5-02a9-4714-b448-4f21f6058231",
   "metadata": {},
   "outputs": [
    {
     "data": {
      "text/plain": [
       "[10, 20, 15]"
      ]
     },
     "execution_count": 7,
     "metadata": {},
     "output_type": "execute_result"
    }
   ],
   "source": [
    "cadastro['idades']"
   ]
  },
  {
   "cell_type": "code",
   "execution_count": 8,
   "id": "41c83181-ce26-41d3-b67c-43ae3572e21b",
   "metadata": {},
   "outputs": [
    {
     "data": {
      "text/plain": [
       "45"
      ]
     },
     "execution_count": 8,
     "metadata": {},
     "output_type": "execute_result"
    }
   ],
   "source": [
    "sum(cadastro['idades'])"
   ]
  }
 ],
 "metadata": {
  "kernelspec": {
   "display_name": "Python 3 (ipykernel)",
   "language": "python",
   "name": "python3"
  },
  "language_info": {
   "codemirror_mode": {
    "name": "ipython",
    "version": 3
   },
   "file_extension": ".py",
   "mimetype": "text/x-python",
   "name": "python",
   "nbconvert_exporter": "python",
   "pygments_lexer": "ipython3",
   "version": "3.10.6"
  }
 },
 "nbformat": 4,
 "nbformat_minor": 5
}
