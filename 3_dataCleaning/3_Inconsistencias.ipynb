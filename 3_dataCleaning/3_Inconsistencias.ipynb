{
 "cells": [
  {
   "cell_type": "code",
   "execution_count": 1,
   "id": "20124eb5-8371-4010-b6a9-b7bc3fef637b",
   "metadata": {},
   "outputs": [
    {
     "data": {
      "text/plain": [
       "'\\nO que seria a consistência?\\n    A consistência é garantir que uma tabela consiga comunicar com a outra.\\n'"
      ]
     },
     "execution_count": 1,
     "metadata": {},
     "output_type": "execute_result"
    }
   ],
   "source": [
    "\"\"\"\n",
    "O que seria a consistência?\n",
    "    A consistência é garantir que uma tabela consiga comunicar com a outra.\n",
    "\"\"\""
   ]
  },
  {
   "cell_type": "code",
   "execution_count": 2,
   "id": "08df8408-62a8-4b8d-bd07-328ddea35642",
   "metadata": {},
   "outputs": [],
   "source": [
    "import pandas as pd"
   ]
  },
  {
   "cell_type": "code",
   "execution_count": 3,
   "id": "524a92be-46eb-41fe-ad9e-6b08d0d112d0",
   "metadata": {},
   "outputs": [],
   "source": [
    "# Lendo arquivo excel\n",
    "dfClientes   = pd.read_excel('caso_estudo.xlsx', sheet_name = 'clientes')\n",
    "dfLojas      = pd.read_excel('caso_estudo.xlsx', sheet_name = 'lojas')\n",
    "dfProdutos   = pd.read_excel('caso_estudo.xlsx', sheet_name = 'produtos')\n",
    "dfVendas     = pd.read_excel('caso_estudo.xlsx', sheet_name = 'vendas')\n",
    "dfPagamentos = pd.read_excel('caso_estudo.xlsx', sheet_name = 'pagamentos')"
   ]
  },
  {
   "cell_type": "code",
   "execution_count": 4,
   "id": "e350ea9d-7c7a-4b0c-a18f-2c6829d87291",
   "metadata": {},
   "outputs": [
    {
     "data": {
      "text/plain": [
       "0       True\n",
       "1       True\n",
       "2       True\n",
       "3       True\n",
       "4       True\n",
       "        ... \n",
       "2995    True\n",
       "2996    True\n",
       "2997    True\n",
       "2998    True\n",
       "2999    True\n",
       "Name: id_cliente, Length: 3000, dtype: bool"
      ]
     },
     "execution_count": 4,
     "metadata": {},
     "output_type": "execute_result"
    }
   ],
   "source": [
    "# Vamos buscar por vendas que não possui clientes\n",
    "# dfVendas.id_clientedfVendas.id_cliente -> Está pegando apenas o id da coluna de vendas\n",
    "# isin -> está avaliando quais daqueles id estão dentro da coluna id Clientes.\n",
    "dfVendas.id_cliente.isin(dfClientes.id)"
   ]
  },
  {
   "cell_type": "code",
   "execution_count": 5,
   "id": "6ab7a154-9674-4e8e-b595-f91de43544c4",
   "metadata": {},
   "outputs": [
    {
     "data": {
      "text/plain": [
       "False"
      ]
     },
     "execution_count": 5,
     "metadata": {},
     "output_type": "execute_result"
    }
   ],
   "source": [
    "# Vamos buscar por vendas que não possui clientes\n",
    "# dfVendas.id_clientedfVendas.id_cliente -> Está pegando apenas o id da coluna de vendas\n",
    "# isin -> está avaliando quais daqueles id NÃO estão dentro da coluna id Clientes.\n",
    "# .any() -> fala se algum valor é verdadeiro ou não\n",
    "~dfVendas.id_cliente.isin(dfClientes.id).any()"
   ]
  },
  {
   "cell_type": "code",
   "execution_count": 6,
   "id": "04757c51-08d4-4be7-8acf-ecf1eff40509",
   "metadata": {},
   "outputs": [
    {
     "data": {
      "text/html": [
       "<div>\n",
       "<style scoped>\n",
       "    .dataframe tbody tr th:only-of-type {\n",
       "        vertical-align: middle;\n",
       "    }\n",
       "\n",
       "    .dataframe tbody tr th {\n",
       "        vertical-align: top;\n",
       "    }\n",
       "\n",
       "    .dataframe thead th {\n",
       "        text-align: right;\n",
       "    }\n",
       "</style>\n",
       "<table border=\"1\" class=\"dataframe\">\n",
       "  <thead>\n",
       "    <tr style=\"text-align: right;\">\n",
       "      <th></th>\n",
       "      <th>id</th>\n",
       "      <th>id_cliente</th>\n",
       "      <th>id_loja</th>\n",
       "      <th>id_produto</th>\n",
       "      <th>dt_venda</th>\n",
       "    </tr>\n",
       "  </thead>\n",
       "  <tbody>\n",
       "  </tbody>\n",
       "</table>\n",
       "</div>"
      ],
      "text/plain": [
       "Empty DataFrame\n",
       "Columns: [id, id_cliente, id_loja, id_produto, dt_venda]\n",
       "Index: []"
      ]
     },
     "execution_count": 6,
     "metadata": {},
     "output_type": "execute_result"
    }
   ],
   "source": [
    "# Vamos buscar por vendas que não possui clientes\n",
    "# dfVendas.id_clientedfVendas.id_cliente -> Está pegando apenas o id da coluna de vendas\n",
    "# isin -> está avaliando quais daqueles id NÃO estão dentro da coluna id Clientes.\n",
    "# .any() -> fala se algum valor é verdadeiro ou não\n",
    "# vizualizar os dados (visualisar o id clientes que não estão dentro do conjunto do id clientes)\n",
    "dfVendas [ ~dfVendas.id_cliente.isin(dfClientes.id)]"
   ]
  },
  {
   "cell_type": "code",
   "execution_count": 7,
   "id": "91290429-773b-4845-b176-d135b4edef7d",
   "metadata": {},
   "outputs": [
    {
     "data": {
      "text/html": [
       "<div>\n",
       "<style scoped>\n",
       "    .dataframe tbody tr th:only-of-type {\n",
       "        vertical-align: middle;\n",
       "    }\n",
       "\n",
       "    .dataframe tbody tr th {\n",
       "        vertical-align: top;\n",
       "    }\n",
       "\n",
       "    .dataframe thead th {\n",
       "        text-align: right;\n",
       "    }\n",
       "</style>\n",
       "<table border=\"1\" class=\"dataframe\">\n",
       "  <thead>\n",
       "    <tr style=\"text-align: right;\">\n",
       "      <th></th>\n",
       "      <th>id</th>\n",
       "      <th>id_cliente</th>\n",
       "      <th>id_loja</th>\n",
       "      <th>id_produto</th>\n",
       "      <th>dt_venda</th>\n",
       "    </tr>\n",
       "  </thead>\n",
       "  <tbody>\n",
       "  </tbody>\n",
       "</table>\n",
       "</div>"
      ],
      "text/plain": [
       "Empty DataFrame\n",
       "Columns: [id, id_cliente, id_loja, id_produto, dt_venda]\n",
       "Index: []"
      ]
     },
     "execution_count": 7,
     "metadata": {},
     "output_type": "execute_result"
    }
   ],
   "source": [
    "dfVendas [ ~dfVendas.id_loja.isin(dfLojas.id) ]"
   ]
  },
  {
   "cell_type": "code",
   "execution_count": 8,
   "id": "e7e2e5c5-c933-40b8-a0a8-72725fa60bb4",
   "metadata": {},
   "outputs": [
    {
     "data": {
      "text/html": [
       "<div>\n",
       "<style scoped>\n",
       "    .dataframe tbody tr th:only-of-type {\n",
       "        vertical-align: middle;\n",
       "    }\n",
       "\n",
       "    .dataframe tbody tr th {\n",
       "        vertical-align: top;\n",
       "    }\n",
       "\n",
       "    .dataframe thead th {\n",
       "        text-align: right;\n",
       "    }\n",
       "</style>\n",
       "<table border=\"1\" class=\"dataframe\">\n",
       "  <thead>\n",
       "    <tr style=\"text-align: right;\">\n",
       "      <th></th>\n",
       "      <th>id</th>\n",
       "      <th>id_cliente</th>\n",
       "      <th>id_loja</th>\n",
       "      <th>id_produto</th>\n",
       "      <th>dt_venda</th>\n",
       "    </tr>\n",
       "  </thead>\n",
       "  <tbody>\n",
       "  </tbody>\n",
       "</table>\n",
       "</div>"
      ],
      "text/plain": [
       "Empty DataFrame\n",
       "Columns: [id, id_cliente, id_loja, id_produto, dt_venda]\n",
       "Index: []"
      ]
     },
     "execution_count": 8,
     "metadata": {},
     "output_type": "execute_result"
    }
   ],
   "source": [
    "dfVendas [ ~dfVendas.id_produto.isin(dfProdutos.id) ]"
   ]
  },
  {
   "cell_type": "code",
   "execution_count": 9,
   "id": "bb8a0955-5cdc-4180-9175-be3583bddee9",
   "metadata": {},
   "outputs": [
    {
     "data": {
      "text/html": [
       "<div>\n",
       "<style scoped>\n",
       "    .dataframe tbody tr th:only-of-type {\n",
       "        vertical-align: middle;\n",
       "    }\n",
       "\n",
       "    .dataframe tbody tr th {\n",
       "        vertical-align: top;\n",
       "    }\n",
       "\n",
       "    .dataframe thead th {\n",
       "        text-align: right;\n",
       "    }\n",
       "</style>\n",
       "<table border=\"1\" class=\"dataframe\">\n",
       "  <thead>\n",
       "    <tr style=\"text-align: right;\">\n",
       "      <th></th>\n",
       "      <th>id</th>\n",
       "      <th>id_venda</th>\n",
       "      <th>dt_pgto</th>\n",
       "    </tr>\n",
       "  </thead>\n",
       "  <tbody>\n",
       "  </tbody>\n",
       "</table>\n",
       "</div>"
      ],
      "text/plain": [
       "Empty DataFrame\n",
       "Columns: [id, id_venda, dt_pgto]\n",
       "Index: []"
      ]
     },
     "execution_count": 9,
     "metadata": {},
     "output_type": "execute_result"
    }
   ],
   "source": [
    "# filtro: Busque os pagamentos que não tem o id de venda\n",
    "dfPagamentos[ ~dfPagamentos.id_venda.isin(dfVendas.id) ]"
   ]
  },
  {
   "cell_type": "code",
   "execution_count": 10,
   "id": "f8ef3385-15c9-4dc1-88f6-5dcb2fadeabe",
   "metadata": {},
   "outputs": [
    {
     "data": {
      "text/html": [
       "<div>\n",
       "<style scoped>\n",
       "    .dataframe tbody tr th:only-of-type {\n",
       "        vertical-align: middle;\n",
       "    }\n",
       "\n",
       "    .dataframe tbody tr th {\n",
       "        vertical-align: top;\n",
       "    }\n",
       "\n",
       "    .dataframe thead th {\n",
       "        text-align: right;\n",
       "    }\n",
       "</style>\n",
       "<table border=\"1\" class=\"dataframe\">\n",
       "  <thead>\n",
       "    <tr style=\"text-align: right;\">\n",
       "      <th></th>\n",
       "      <th>id</th>\n",
       "      <th>id_cliente</th>\n",
       "      <th>id_loja</th>\n",
       "      <th>id_produto</th>\n",
       "      <th>dt_venda</th>\n",
       "    </tr>\n",
       "  </thead>\n",
       "  <tbody>\n",
       "    <tr>\n",
       "      <th>3</th>\n",
       "      <td>4</td>\n",
       "      <td>59</td>\n",
       "      <td>4</td>\n",
       "      <td>3</td>\n",
       "      <td>2018-01-05</td>\n",
       "    </tr>\n",
       "    <tr>\n",
       "      <th>5</th>\n",
       "      <td>6</td>\n",
       "      <td>52</td>\n",
       "      <td>8</td>\n",
       "      <td>3</td>\n",
       "      <td>2018-01-05</td>\n",
       "    </tr>\n",
       "    <tr>\n",
       "      <th>20</th>\n",
       "      <td>21</td>\n",
       "      <td>270</td>\n",
       "      <td>2</td>\n",
       "      <td>10</td>\n",
       "      <td>2018-01-12</td>\n",
       "    </tr>\n",
       "    <tr>\n",
       "      <th>21</th>\n",
       "      <td>22</td>\n",
       "      <td>465</td>\n",
       "      <td>2</td>\n",
       "      <td>3</td>\n",
       "      <td>2018-01-12</td>\n",
       "    </tr>\n",
       "    <tr>\n",
       "      <th>32</th>\n",
       "      <td>33</td>\n",
       "      <td>459</td>\n",
       "      <td>2</td>\n",
       "      <td>7</td>\n",
       "      <td>2018-01-13</td>\n",
       "    </tr>\n",
       "    <tr>\n",
       "      <th>...</th>\n",
       "      <td>...</td>\n",
       "      <td>...</td>\n",
       "      <td>...</td>\n",
       "      <td>...</td>\n",
       "      <td>...</td>\n",
       "    </tr>\n",
       "    <tr>\n",
       "      <th>2992</th>\n",
       "      <td>2993</td>\n",
       "      <td>764</td>\n",
       "      <td>2</td>\n",
       "      <td>7</td>\n",
       "      <td>2020-09-25</td>\n",
       "    </tr>\n",
       "    <tr>\n",
       "      <th>2994</th>\n",
       "      <td>2995</td>\n",
       "      <td>6</td>\n",
       "      <td>2</td>\n",
       "      <td>3</td>\n",
       "      <td>2020-09-27</td>\n",
       "    </tr>\n",
       "    <tr>\n",
       "      <th>2997</th>\n",
       "      <td>2998</td>\n",
       "      <td>731</td>\n",
       "      <td>2</td>\n",
       "      <td>4</td>\n",
       "      <td>2020-09-27</td>\n",
       "    </tr>\n",
       "    <tr>\n",
       "      <th>2998</th>\n",
       "      <td>2999</td>\n",
       "      <td>163</td>\n",
       "      <td>2</td>\n",
       "      <td>1</td>\n",
       "      <td>2020-09-27</td>\n",
       "    </tr>\n",
       "    <tr>\n",
       "      <th>2999</th>\n",
       "      <td>3000</td>\n",
       "      <td>770</td>\n",
       "      <td>2</td>\n",
       "      <td>2</td>\n",
       "      <td>2020-09-27</td>\n",
       "    </tr>\n",
       "  </tbody>\n",
       "</table>\n",
       "<p>928 rows × 5 columns</p>\n",
       "</div>"
      ],
      "text/plain": [
       "        id  id_cliente  id_loja  id_produto   dt_venda\n",
       "3        4          59        4           3 2018-01-05\n",
       "5        6          52        8           3 2018-01-05\n",
       "20      21         270        2          10 2018-01-12\n",
       "21      22         465        2           3 2018-01-12\n",
       "32      33         459        2           7 2018-01-13\n",
       "...    ...         ...      ...         ...        ...\n",
       "2992  2993         764        2           7 2020-09-25\n",
       "2994  2995           6        2           3 2020-09-27\n",
       "2997  2998         731        2           4 2020-09-27\n",
       "2998  2999         163        2           1 2020-09-27\n",
       "2999  3000         770        2           2 2020-09-27\n",
       "\n",
       "[928 rows x 5 columns]"
      ]
     },
     "execution_count": 10,
     "metadata": {},
     "output_type": "execute_result"
    }
   ],
   "source": [
    "# filtro: Busque se todas as vendas que não geraram pagamentos\n",
    "# está vizualizando o data frame Vendas que está gerando um filtro nele.\n",
    "# De forma em que a coluna id de vendas NÃO está dentro do data frame pagamento\n",
    "# da coluna id vendas\n",
    "dfVendas[ ~dfVendas.id.isin(dfPagamentos.id_venda) ]"
   ]
  },
  {
   "cell_type": "code",
   "execution_count": 11,
   "id": "7a5cf496-8763-46cd-b871-72a5fd388d89",
   "metadata": {},
   "outputs": [
    {
     "data": {
      "text/plain": [
       "id            928\n",
       "id_cliente    928\n",
       "id_loja       928\n",
       "id_produto    928\n",
       "dt_venda      928\n",
       "dtype: int64"
      ]
     },
     "execution_count": 11,
     "metadata": {},
     "output_type": "execute_result"
    }
   ],
   "source": [
    "# filtro: Busque se todas as vendas que não geraram pagamentos\n",
    "dfVendas[ ~dfVendas.id.isin(dfPagamentos.id_venda) ].count()\n",
    "# Temos 928 vendas que não geraram pagamentos"
   ]
  }
 ],
 "metadata": {
  "kernelspec": {
   "display_name": "Python 3 (ipykernel)",
   "language": "python",
   "name": "python3"
  },
  "language_info": {
   "codemirror_mode": {
    "name": "ipython",
    "version": 3
   },
   "file_extension": ".py",
   "mimetype": "text/x-python",
   "name": "python",
   "nbconvert_exporter": "python",
   "pygments_lexer": "ipython3",
   "version": "3.10.6"
  }
 },
 "nbformat": 4,
 "nbformat_minor": 5
}
